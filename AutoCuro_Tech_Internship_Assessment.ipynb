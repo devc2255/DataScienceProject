{
  "nbformat": 4,
  "nbformat_minor": 0,
  "metadata": {
    "colab": {
      "provenance": [],
      "authorship_tag": "ABX9TyPM5s91YhRK7l/PLGI328Bv",
      "include_colab_link": true
    },
    "kernelspec": {
      "name": "python3",
      "display_name": "Python 3"
    },
    "language_info": {
      "name": "python"
    }
  },
  "cells": [
    {
      "cell_type": "markdown",
      "metadata": {
        "id": "view-in-github",
        "colab_type": "text"
      },
      "source": [
        "<a href=\"https://colab.research.google.com/github/devc2255/project/blob/main/AutoCuro_Tech_Internship_Assessment.ipynb\" target=\"_parent\"><img src=\"https://colab.research.google.com/assets/colab-badge.svg\" alt=\"Open In Colab\"/></a>"
      ]
    },
    {
      "cell_type": "code",
      "execution_count": 4,
      "metadata": {
        "colab": {
          "base_uri": "https://localhost:8080/",
          "height": 238
        },
        "id": "v5ZrzkD1-tUZ",
        "outputId": "6e0f244e-e352-4e54-9785-f1810b2c1f15"
      },
      "outputs": [
        {
          "output_type": "display_data",
          "data": {
            "text/plain": [
              "<Figure size 800x500 with 1 Axes>"
            ],
            "image/png": "[encoded data removed]"
          },
          "metadata": {}
        }
      ],
      "source": [
        "import random\n",
        "import matplotlib.pyplot as plt\n",
        "import networkx as nx\n",
        "\n",
        "# Define bin dimensions\n",
        "bin_width = 80\n",
        "bin_height = 40\n",
        "\n",
        "# Number of rectangles\n",
        "num_rectangles = 9\n",
        "\n",
        "# Generate random rectangle dimensions (width, height)\n",
        "rectangles = []\n",
        "for i in range(num_rectangles):\n",
        "  rectangles.append((random.randint(5, 20), random.randint(5, 20)))\n",
        "\n",
        "# Create a graph to represent the constraints\n",
        "graph = nx.Graph()\n",
        "graph.add_nodes_from(range(1, num_rectangles + 1))\n",
        "\n",
        "# Add constraints to the graph\n",
        "graph.add_edge(1, 2)  # Rectangles 1 and 2 at top and bottom\n",
        "graph.add_edge(3, 4)\n",
        "graph.add_edge(3, 5)\n",
        "graph.add_edge(3, 9)\n",
        "graph.add_edge(7, 6)\n",
        "graph.add_edge(7, 2)\n",
        "\n",
        "\n",
        "# Function to check for overlaps\n",
        "def check_overlap(rect1, rect2):\n",
        "    x1, y1, w1, h1 = rect1\n",
        "    x2, y2, w2, h2 = rect2\n",
        "    return not (x1 + w1 <= x2 or x2 + w2 <= x1 or y1 + h1 <= y2 or y2 + h2 <= y1)\n",
        "\n",
        "# Placeholder for the optimization algorithm (replace with your implementation)\n",
        "def optimize_placement(rectangles, graph):\n",
        "    placements = {}  # Dictionary to store the (x, y) coordinates of rectangles\n",
        "\n",
        "    # Initialize placements according to the constraints\n",
        "    placements[1] = (0, bin_height-rectangles[0][1]-1)\n",
        "    placements[2] = (0, 0)\n",
        "\n",
        "    # Rest of the placements\n",
        "    # ... (Needs to use reinforcement learning or metaheuristics for optimization)\n",
        "\n",
        "    return placements\n",
        "\n",
        "# Simulate placement optimization\n",
        "placements = optimize_placement(rectangles, graph)\n",
        "\n",
        "# Plotting\n",
        "plt.figure(figsize=(8, 5))\n",
        "ax = plt.gca()\n",
        "\n",
        "for i in range(num_rectangles):\n",
        "    x, y = placements.get(i + 1, (random.randint(0, bin_width), random.randint(0, bin_height))) #Placeholder\n",
        "    width, height = rectangles[i]\n",
        "\n",
        "    rect = plt.Rectangle((x, y), width, height, linewidth=1, edgecolor='r', facecolor='none')\n",
        "    ax.add_patch(rect)\n",
        "    ax.text(x + width / 2, y + height / 2, str(i + 1), ha='center', va='center')  # Add rectangle label\n",
        "\n",
        "plt.xlim(0, bin_width)\n",
        "plt.ylim(0, bin_height)\n",
        "plt.xlabel('Width')\n",
        "plt.ylabel('Height')\n",
        "plt.title('Rectangle Placement in Bin')\n",
        "\n",
        "nx.draw(graph, with_labels=True, node_color='lightblue', node_size=500, font_size=10, pos=nx.spring_layout(graph))  # Draw the constraint graph\n",
        "\n",
        "\n",
        "plt.show()"
      ]
    }
  ]
}